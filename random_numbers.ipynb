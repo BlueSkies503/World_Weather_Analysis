{
 "cells": [
  {
   "cell_type": "code",
   "execution_count": 2,
   "id": "64b26329",
   "metadata": {},
   "outputs": [],
   "source": [
    "# Import the random module.\n",
    "import random"
   ]
  },
  {
   "cell_type": "code",
   "execution_count": 3,
   "id": "b17642d2",
   "metadata": {},
   "outputs": [
    {
     "data": {
      "text/plain": [
       "53"
      ]
     },
     "execution_count": 3,
     "metadata": {},
     "output_type": "execute_result"
    }
   ],
   "source": [
    "random.randint(-90, 90)"
   ]
  },
  {
   "cell_type": "code",
   "execution_count": 4,
   "id": "aa7b8c16",
   "metadata": {},
   "outputs": [
    {
     "data": {
      "text/plain": [
       "0.01426669577104811"
      ]
     },
     "execution_count": 4,
     "metadata": {},
     "output_type": "execute_result"
    }
   ],
   "source": [
    "random.random()"
   ]
  },
  {
   "cell_type": "code",
   "execution_count": 5,
   "id": "9cfe5b14",
   "metadata": {},
   "outputs": [
    {
     "data": {
      "text/plain": [
       "[5.820795927028538,\n",
       " 23.493496231403263,\n",
       " 58.45024958641665,\n",
       " -26.946974173437933,\n",
       " -65.72622349663666,\n",
       " -34.384997629739466,\n",
       " -9.54919875374715,\n",
       " 8.224947023989644,\n",
       " -30.444128823534644,\n",
       " -34.611631783486786]"
      ]
     },
     "execution_count": 5,
     "metadata": {},
     "output_type": "execute_result"
    }
   ],
   "source": [
    "x = 1\n",
    "latitudes = []\n",
    "while x < 11:\n",
    "    random_lat = random.randint(-90, 89) + random.random()\n",
    "    latitudes.append(random_lat)\n",
    "    x += 1\n",
    "latitudes"
   ]
  },
  {
   "cell_type": "code",
   "execution_count": 19,
   "id": "97dc5647",
   "metadata": {},
   "outputs": [
    {
     "data": {
      "text/plain": [
       "-87"
      ]
     },
     "execution_count": 19,
     "metadata": {},
     "output_type": "execute_result"
    }
   ],
   "source": [
    "random.randrange(-90, 90, step = 3)"
   ]
  },
  {
   "cell_type": "code",
   "execution_count": 20,
   "id": "a29067bf",
   "metadata": {},
   "outputs": [
    {
     "data": {
      "text/plain": [
       "15.106391395406064"
      ]
     },
     "execution_count": 20,
     "metadata": {},
     "output_type": "execute_result"
    }
   ],
   "source": [
    "random.uniform(-90, 90)"
   ]
  },
  {
   "cell_type": "code",
   "execution_count": 21,
   "id": "ff200c15",
   "metadata": {},
   "outputs": [],
   "source": [
    "# Import the NumPy module.\n",
    "import numpy as np"
   ]
  },
  {
   "cell_type": "code",
   "execution_count": 22,
   "id": "753f715d",
   "metadata": {},
   "outputs": [
    {
     "data": {
      "text/plain": [
       "16.79216758729703"
      ]
     },
     "execution_count": 22,
     "metadata": {},
     "output_type": "execute_result"
    }
   ],
   "source": [
    "np.random.uniform(-90.000, 90.000)"
   ]
  },
  {
   "cell_type": "code",
   "execution_count": 24,
   "id": "53e325b4",
   "metadata": {},
   "outputs": [
    {
     "data": {
      "text/plain": [
       "19.425621407490226"
      ]
     },
     "execution_count": 24,
     "metadata": {},
     "output_type": "execute_result"
    }
   ],
   "source": [
    "np.random.uniform(low = -90, high = 90)"
   ]
  },
  {
   "cell_type": "code",
   "execution_count": 25,
   "id": "b6f21f0b",
   "metadata": {},
   "outputs": [
    {
     "data": {
      "text/plain": [
       "array([-56.9867049 ,  81.83466117, -61.08407992,  50.88083913,\n",
       "       -47.61871758, -16.47128266, -28.44006195, -24.3002397 ,\n",
       "        59.21005265, -26.33380098,  28.85438081,  64.60149986,\n",
       "        23.28723353, -44.87183901,  -3.39785593,  17.1805368 ,\n",
       "       -68.9177609 , -84.84536808,  19.27835278,  87.9256294 ,\n",
       "        37.93508613,   1.55264967, -83.2157896 , -75.69594839,\n",
       "        18.6861457 ,  11.20387228,  40.64649324, -29.64377439,\n",
       "       -66.07643513, -21.79178746, -46.85228856, -42.92295536,\n",
       "        -5.2843208 ,  77.61281474,  69.7124981 ,  81.37171601,\n",
       "       -14.29816631, -50.12547325, -76.99721895,  50.79557648,\n",
       "        79.01394122, -72.57842827,  50.4669062 , -78.14382651,\n",
       "        52.34661145,  -4.5744935 , -83.77946941,  56.1046572 ,\n",
       "       -33.37676151,  33.81305713])"
      ]
     },
     "execution_count": 25,
     "metadata": {},
     "output_type": "execute_result"
    }
   ],
   "source": [
    "np.random.uniform(-90.000, 90.000, size = 50)"
   ]
  },
  {
   "cell_type": "code",
   "execution_count": 26,
   "id": "5ebee6a5",
   "metadata": {},
   "outputs": [],
   "source": [
    "# Import timeit.\n",
    "import timeit"
   ]
  },
  {
   "cell_type": "code",
   "execution_count": 27,
   "id": "535230e6",
   "metadata": {},
   "outputs": [
    {
     "name": "stdout",
     "output_type": "stream",
     "text": [
      "14.4 µs ± 39.7 ns per loop (mean ± std. dev. of 7 runs, 100000 loops each)\n"
     ]
    }
   ],
   "source": [
    "%timeit np.random.uniform(-90.000, 90.000, size = 1500)"
   ]
  },
  {
   "cell_type": "code",
   "execution_count": 33,
   "id": "81338ce4",
   "metadata": {},
   "outputs": [
    {
     "name": "stdout",
     "output_type": "stream",
     "text": [
      "1.87 ms ± 13.3 µs per loop (mean ± std. dev. of 7 runs, 100 loops each)\n"
     ]
    }
   ],
   "source": [
    "def latitudes(size):\n",
    "    latitudes = []\n",
    "    x = 0\n",
    "    while x < (size):\n",
    "        random_lat = random.randint(-90, 90) + random.random()\n",
    "        latitudes.append(random_lat)\n",
    "        x += 1\n",
    "    return latitudes\n",
    "# Call the function with 1500.\n",
    "%timeit latitudes(1500)"
   ]
  },
  {
   "cell_type": "code",
   "execution_count": 34,
   "id": "f82a7959",
   "metadata": {},
   "outputs": [
    {
     "name": "stdout",
     "output_type": "stream",
     "text": [
      "1.88 ms ± 15 µs per loop (mean ± std. dev. of 7 runs, 100 loops each)\n"
     ]
    }
   ],
   "source": [
    "def latitudes_for(size):\n",
    "    latitudes = []\n",
    "    for x in np.arange(size):\n",
    "        random_lat = random.randint(-90, 90) + randam.random()\n",
    "        latitudes.append(random_lat)\n",
    "    return latitudes\n",
    "\n",
    "%timeit latitudes(1500)"
   ]
  }
 ],
 "metadata": {
  "kernelspec": {
   "display_name": "PythonData",
   "language": "python",
   "name": "pythondata"
  },
  "language_info": {
   "codemirror_mode": {
    "name": "ipython",
    "version": 3
   },
   "file_extension": ".py",
   "mimetype": "text/x-python",
   "name": "python",
   "nbconvert_exporter": "python",
   "pygments_lexer": "ipython3",
   "version": "3.7.13"
  }
 },
 "nbformat": 4,
 "nbformat_minor": 5
}
